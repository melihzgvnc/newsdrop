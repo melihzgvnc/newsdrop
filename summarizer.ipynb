{
 "cells": [
  {
   "cell_type": "code",
   "execution_count": null,
   "id": "38b318e6-5e30-4e46-a65a-42f7781dc5d9",
   "metadata": {},
   "outputs": [],
   "source": [
    "from IPython.display import display, Markdown\n",
    "from crawler import BBCCrawler\n",
    "from newsguru import NewsGuru\n",
    "from publisher import Publisher"
   ]
  },
  {
   "cell_type": "code",
   "execution_count": null,
   "id": "9f1763c3-f9f9-4eac-b862-8aaa4b24c7a6",
   "metadata": {},
   "outputs": [],
   "source": [
    "news, links = BBCCrawler.run()\n",
    "llm = NewsGuru()"
   ]
  },
  {
   "cell_type": "code",
   "execution_count": null,
   "id": "51e23c9b-cf7c-414e-90dd-74939a787f75",
   "metadata": {
    "scrolled": true
   },
   "outputs": [],
   "source": [
    "insights_w_links = []\n",
    "for i in range(len(news)):\n",
    "    insights_w_links.append((llm.chain(news[i]), links[i]))\n"
   ]
  },
  {
   "cell_type": "code",
   "execution_count": null,
   "id": "9c94a3e7-9a23-43f3-877b-b9f7a7d20c79",
   "metadata": {},
   "outputs": [],
   "source": [
    "publisher = Publisher(insights_w_links[0][0], insights_w_links[0][1])"
   ]
  },
  {
   "cell_type": "code",
   "execution_count": null,
   "id": "21e6c704-4d00-4c69-92a5-59daabbe3ae0",
   "metadata": {
    "scrolled": true
   },
   "outputs": [],
   "source": [
    "publisher.publish()"
   ]
  }
 ],
 "metadata": {
  "kernelspec": {
   "display_name": "venv",
   "language": "python",
   "name": "venv"
  },
  "language_info": {
   "codemirror_mode": {
    "name": "ipython",
    "version": 3
   },
   "file_extension": ".py",
   "mimetype": "text/x-python",
   "name": "python",
   "nbconvert_exporter": "python",
   "pygments_lexer": "ipython3",
   "version": "3.12.8"
  }
 },
 "nbformat": 4,
 "nbformat_minor": 5
}
