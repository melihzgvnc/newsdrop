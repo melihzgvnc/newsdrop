{
 "cells": [
  {
   "cell_type": "code",
   "execution_count": 3,
   "id": "38b318e6-5e30-4e46-a65a-42f7781dc5d9",
   "metadata": {},
   "outputs": [],
   "source": [
    "import os\n",
    "from dotenv import load_dotenv\n",
    "from openai import OpenAI\n",
    "from IPython.display import display, Markdown\n",
    "from crawler import BBCCrawler"
   ]
  },
  {
   "cell_type": "code",
   "execution_count": 4,
   "id": "36d9a2a1-fb63-4988-96ac-bc3a226994bd",
   "metadata": {},
   "outputs": [],
   "source": [
    "load_dotenv()\n",
    "os.environ[\"OPENAI_API_KEY\"] = os.getenv(\"OPENAI_API_KEY\")\n",
    "openai = OpenAI()"
   ]
  },
  {
   "cell_type": "code",
   "execution_count": 5,
   "id": "db2689a4-ce22-493c-8c1e-74cc3f879e79",
   "metadata": {},
   "outputs": [],
   "source": [
    "MODEL = \"gpt-4o-mini\"\n",
    "\n",
    "def llm_run(user_prompt):\n",
    "        result = openai.chat.completions.create(\n",
    "            model=MODEL,\n",
    "            messages = [\n",
    "                {\"role\":\"user\", \"content\":user_prompt}\n",
    "            ]\n",
    "        )\n",
    "        result = result.choices[0].message.content\n",
    "        return result"
   ]
  },
  {
   "cell_type": "code",
   "execution_count": 6,
   "id": "b470a517-32aa-40ff-a69f-df2c2e06b51a",
   "metadata": {},
   "outputs": [],
   "source": [
    "prompt_lists = [\n",
    "    \"\"\"Summarize the news, higlighting the key points.\n",
    "    Add your insights, if only you have any, under a seperate title 'Insights'. \"\"\",\n",
    "\n",
    "    \"\"\"Format the text so that it is in a respresentable markdown format.\n",
    "    Example format:\n",
    "    # Main Title\n",
    "    ## Subtitle\n",
    "    Text\n",
    "    \"\"\",\n",
    "\n",
    "    \"\"\"Translate the text into Turkish. Keep the formatting as it is.\n",
    "    \"\"\"\n",
    "]\n",
    "\n",
    "news = BBCCrawler.run()"
   ]
  },
  {
   "cell_type": "code",
   "execution_count": 14,
   "id": "f229d76d-c4e3-4203-b620-de46a861887b",
   "metadata": {},
   "outputs": [],
   "source": [
    "def chain(prompts, llm_input):\n",
    "    result = llm_input\n",
    "    for i, prompt in enumerate(prompts, 1):\n",
    "        #print(f\"Step {i}:\\n\")\n",
    "        result = llm_run(f\"{prompt} \\n Input:\\n{result}\")\n",
    "        #print(f\"Response:\\n{result}\")\n",
    "    return result"
   ]
  },
  {
   "cell_type": "code",
   "execution_count": 15,
   "id": "51e23c9b-cf7c-414e-90dd-74939a787f75",
   "metadata": {
    "scrolled": true
   },
   "outputs": [],
   "source": [
    "result = []\n",
    "for el in news:\n",
    "    result.append(chain(prompt_lists, el))"
   ]
  },
  {
   "cell_type": "code",
   "execution_count": 16,
   "id": "e5a0b202-c82d-4580-8109-06124c000d89",
   "metadata": {
    "scrolled": true
   },
   "outputs": [
    {
     "data": {
      "text/markdown": [
       "Girdi: # Ana Noktaların Özeti\n",
       "\n",
       "1. **Egemenlik Transferi**: Birleşik Krallık, Chagos Takımadaları üzerindeki egemenliğini Mauritius'a devretmeyi planlıyor, ancak Diego Garcia askeri üssü üzerindeki kontrolü 99 yıllık bir kira sözleşmesi ile sürdürecek.\n",
       "\n",
       "2. **Trump Yönetimi ile Danışma**: Anlaşmanın Donald Trump'ın görev süresinin başlamasından önce imzalanması amaçlanıyordu, ancak görüşmeler şu anda yeni yönetimin incelemesi için ertelendi.\n",
       "\n",
       "3. **Siyasi Tepki**: Açıklama karışık tepkilere yol açtı:\n",
       "   - İşçi Partisi lideri Sir Keir Starmer, anlaşmayı savundu ve müzakerelerin önceki hükümet altında başladığını vurgulayarak askeri üssün güvenliği için hayati olduğunu belirtti.\n",
       "   - Muhalefet Dışişleri Bakanı Priti Patel ve Muhafazakar Parti lideri Kemi Badenoch ise, anlaşmayı \"aşağılama\" ve Britanya toprağının \"aşırı bir şekilde teslimi\" olarak eleştirdi.\n",
       "\n",
       "4. **ABD Tepkisi**: Biden yönetimi daha önce anlaşmaya destek vermişti, ancak Çin ile ticaret anlaşması olan Mauritius'a adaların devredilmesinin sonuçları konusunda endişeler dile getirildi. Göreve gelecek Dışişleri Bakanı Marco Rubio, anlaşmayı \"ciddi bir tehdit\" olarak nitelendirdi.\n",
       "\n",
       "5. **Chagossian Perspektifi**: 1960'larda Birleşik Krallık'ın kontrolü sırasında yerinden edilen Chagossian topluluğu, transfer konusunda fikir birliği olmadığına dair bir eksiklik gösterdi ve müzakerelerde kendilerinin danışılmamış olmasından duydukları hayal kırıklığını ifade etti.\n",
       "\n",
       "6. **Hukuki Değerlendirmeler**: Birleşmiş Milletler'in en yüksek mahkemesi, Birleşik Krallık'ın adalar üzerindeki yönetimini \"kanunsuz\" olarak belirledi ve duruma daha fazla uluslararası inceleme getirdi.\n",
       "\n",
       "7. **Askeri Güvenlik Endişeleri**: Birleşik Krallık yetkilileri, anlaşmanın Diego Garcia üssünün gelecekteki operasyonlarının güvence altına alınması için hayati olduğunu savunuyor, bu üs küresel askeri stratejide kritik bir rol oynuyor.\n",
       "\n",
       "---\n",
       "\n",
       "# İçgörüler\n",
       "\n",
       "Chagos Adaları etrafındaki devam eden müzakereler, özellikle Hint Okyanusu bölgesinde ABD, Birleşik Krallık ve Çin ile ilgili daha geniş jeopolitik gerginlikleri yansıtıyor. Birleşik Krallık'ın bu durumu ele alış şekli, karmaşık sömürge mirasını ve yerinden edilmiş nüfuslar üzerindeki kalıcı etkileri göstermektedir. Ayrıca, bu senaryo, liderlik değişiklikleri ve küresel stratejik önceliklerin etkileyebileceği uluslararası anlaşmaların kırılgan doğasını da vurguluyor.\n",
       "\n",
       "Trump'ın dönüşüyle birlikte ABD dış politikasındaki olası değişiklik, askeri işbirliği ile ittifakların istikrarı konusunda soru işaretleri doğuruyor. Birleşik Krallık'taki muhalefet partilerinin eleştirileri, dış politika kararlarındaki siyasi çıkarları ve içsel etkilerin uluslararası çıkarlarla nasıl çelişebileceğini vurguluyor.\n",
       "\n",
       "Ayrıca, durum, doğrudan kendi topraklarını etkileyen tartışmalara tüm paydaşların, özellikle Chagossianların, dahil edilmesinin önemini gözler önüne seriyor. Tarihsel adaletsizliklerin uzlaşısını sağlamak için onların sesleri ve hakları kritik bir öneme sahiptir. Sonuç olarak, durumun nasıl gelişeceği, muhtemelen gelecekteki sömürge mirasları ve uluslararası antlaşmalar için bir emsal teşkil edecektir."
      ],
      "text/plain": [
       "<IPython.core.display.Markdown object>"
      ]
     },
     "metadata": {},
     "output_type": "display_data"
    }
   ],
   "source": [
    "display(Markdown(result[0]))"
   ]
  },
  {
   "cell_type": "code",
   "execution_count": null,
   "id": "62a551cf-90b8-4d56-b045-b0abf8f7faae",
   "metadata": {},
   "outputs": [],
   "source": []
  }
 ],
 "metadata": {
  "kernelspec": {
   "display_name": "venv",
   "language": "python",
   "name": "venv"
  },
  "language_info": {
   "codemirror_mode": {
    "name": "ipython",
    "version": 3
   },
   "file_extension": ".py",
   "mimetype": "text/x-python",
   "name": "python",
   "nbconvert_exporter": "python",
   "pygments_lexer": "ipython3",
   "version": "3.12.8"
  }
 },
 "nbformat": 4,
 "nbformat_minor": 5
}
